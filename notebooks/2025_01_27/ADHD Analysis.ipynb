{
 "cells": [
  {
   "cell_type": "markdown",
   "id": "49cbd957",
   "metadata": {},
   "source": [
    "[link to original notebook](https://www.kaggle.com/code/olaflundstrom/wids-datathon-2025-adhd-analysis-notebook)"
   ]
  },
  {
   "cell_type": "markdown",
   "id": "b3fdde0d",
   "metadata": {
    "papermill": {
     "duration": 0.00286,
     "end_time": "2025-01-24T17:43:02.516390",
     "exception": false,
     "start_time": "2025-01-24T17:43:02.513530",
     "status": "completed"
    },
    "tags": []
   },
   "source": [
    "# WiDS Datathon 2025: Predicting ADHD and Sex from fMRI Data\n",
    "\n",
    "This notebook provides a step-by-step guide to solving the WiDS Datathon 2025 challenge. The goal is to predict both an individual's sex and their ADHD diagnosis using functional brain imaging data, socio-demographic information, and other metadata.\n",
    "\n",
    "---\n",
    "\n",
    "## Table of Contents\n",
    "1. [Introduction](#introduction)\n",
    "2. [Data Loading](#data-loading)\n",
    "3. [Data Preprocessing](#data-preprocessing)\n",
    "4. [Model Training](#model-training)\n",
    "5. [Model Evaluation](#model-evaluation)\n",
    "6. [Submission Generation](#submission-generation)\n",
    "7. [Conclusion](#conclusion)\n",
    "\n",
    "---\n",
    "\n",
    "## 1. Introduction <a name=\"introduction\"></a>\n",
    "\n",
    "The WiDS Datathon 2025 focuses on uncovering patterns in ADHD diagnosis and sex differences using fMRI data. The dataset includes:\n",
    "- Functional MRI connectome matrices\n",
    "- Socio-demographic information\n",
    "- Emotional and parenting questionnaire data\n",
    "\n",
    "Our task is to build a multi-output model to predict:\n",
    "1. ADHD diagnosis (`ADHD_Outcome`: 1 = yes, 0 = no)\n",
    "2. Sex (`Sex_F`: 1 = female, 0 = male)\n",
    "\n",
    "---\n",
    "\n",
    "## 2. Data Loading <a name=\"data-loading\"></a>\n",
    "\n",
    "We start by loading the training and test datasets."
   ]
  },
  {
   "cell_type": "code",
   "execution_count": 1,
   "id": "ee587fe3",
   "metadata": {
    "execution": {
     "iopub.execute_input": "2025-01-24T17:43:02.522180Z",
     "iopub.status.busy": "2025-01-24T17:43:02.521875Z",
     "iopub.status.idle": "2025-01-24T17:43:23.449910Z",
     "shell.execute_reply": "2025-01-24T17:43:23.449042Z"
    },
    "papermill": {
     "duration": 20.932657,
     "end_time": "2025-01-24T17:43:23.451565",
     "exception": false,
     "start_time": "2025-01-24T17:43:02.518908",
     "status": "completed"
    },
    "tags": []
   },
   "outputs": [
    {
     "name": "stdout",
     "output_type": "stream",
     "text": [
      "Loading data...\n"
     ]
    },
    {
     "data": {
      "text/html": [
       "<div>\n",
       "<style scoped>\n",
       "    .dataframe tbody tr th:only-of-type {\n",
       "        vertical-align: middle;\n",
       "    }\n",
       "\n",
       "    .dataframe tbody tr th {\n",
       "        vertical-align: top;\n",
       "    }\n",
       "\n",
       "    .dataframe thead th {\n",
       "        text-align: right;\n",
       "    }\n",
       "</style>\n",
       "<table border=\"1\" class=\"dataframe\">\n",
       "  <thead>\n",
       "    <tr style=\"text-align: right;\">\n",
       "      <th></th>\n",
       "      <th>participant_id</th>\n",
       "      <th>EHQ_EHQ_Total</th>\n",
       "      <th>ColorVision_CV_Score</th>\n",
       "      <th>APQ_P_APQ_P_CP</th>\n",
       "      <th>APQ_P_APQ_P_ID</th>\n",
       "      <th>APQ_P_APQ_P_INV</th>\n",
       "      <th>APQ_P_APQ_P_OPD</th>\n",
       "      <th>APQ_P_APQ_P_PM</th>\n",
       "      <th>APQ_P_APQ_P_PP</th>\n",
       "      <th>SDQ_SDQ_Conduct_Problems</th>\n",
       "      <th>...</th>\n",
       "      <th>195throw_198thcolumn</th>\n",
       "      <th>195throw_199thcolumn</th>\n",
       "      <th>196throw_197thcolumn</th>\n",
       "      <th>196throw_198thcolumn</th>\n",
       "      <th>196throw_199thcolumn</th>\n",
       "      <th>197throw_198thcolumn</th>\n",
       "      <th>197throw_199thcolumn</th>\n",
       "      <th>198throw_199thcolumn</th>\n",
       "      <th>ADHD_Outcome</th>\n",
       "      <th>Sex_F</th>\n",
       "    </tr>\n",
       "  </thead>\n",
       "  <tbody>\n",
       "    <tr>\n",
       "      <th>0</th>\n",
       "      <td>UmrK0vMLopoR</td>\n",
       "      <td>40.00</td>\n",
       "      <td>13</td>\n",
       "      <td>3</td>\n",
       "      <td>10</td>\n",
       "      <td>47</td>\n",
       "      <td>13</td>\n",
       "      <td>11</td>\n",
       "      <td>28</td>\n",
       "      <td>0</td>\n",
       "      <td>...</td>\n",
       "      <td>-0.058396</td>\n",
       "      <td>-0.041544</td>\n",
       "      <td>0.142806</td>\n",
       "      <td>-0.006377</td>\n",
       "      <td>0.108005</td>\n",
       "      <td>0.148327</td>\n",
       "      <td>0.093230</td>\n",
       "      <td>-0.004984</td>\n",
       "      <td>1</td>\n",
       "      <td>1</td>\n",
       "    </tr>\n",
       "    <tr>\n",
       "      <th>1</th>\n",
       "      <td>CPaeQkhcjg7d</td>\n",
       "      <td>-94.47</td>\n",
       "      <td>14</td>\n",
       "      <td>3</td>\n",
       "      <td>13</td>\n",
       "      <td>34</td>\n",
       "      <td>18</td>\n",
       "      <td>23</td>\n",
       "      <td>30</td>\n",
       "      <td>0</td>\n",
       "      <td>...</td>\n",
       "      <td>-0.025624</td>\n",
       "      <td>-0.031863</td>\n",
       "      <td>0.162011</td>\n",
       "      <td>0.067439</td>\n",
       "      <td>0.017155</td>\n",
       "      <td>0.088893</td>\n",
       "      <td>0.064094</td>\n",
       "      <td>0.194381</td>\n",
       "      <td>1</td>\n",
       "      <td>0</td>\n",
       "    </tr>\n",
       "    <tr>\n",
       "      <th>2</th>\n",
       "      <td>Nb4EetVPm3gs</td>\n",
       "      <td>-46.67</td>\n",
       "      <td>14</td>\n",
       "      <td>4</td>\n",
       "      <td>10</td>\n",
       "      <td>35</td>\n",
       "      <td>16</td>\n",
       "      <td>10</td>\n",
       "      <td>29</td>\n",
       "      <td>1</td>\n",
       "      <td>...</td>\n",
       "      <td>0.010771</td>\n",
       "      <td>-0.044341</td>\n",
       "      <td>0.128386</td>\n",
       "      <td>0.047282</td>\n",
       "      <td>0.087678</td>\n",
       "      <td>0.146221</td>\n",
       "      <td>-0.009425</td>\n",
       "      <td>0.035150</td>\n",
       "      <td>1</td>\n",
       "      <td>0</td>\n",
       "    </tr>\n",
       "    <tr>\n",
       "      <th>3</th>\n",
       "      <td>p4vPhVu91o4b</td>\n",
       "      <td>-26.68</td>\n",
       "      <td>10</td>\n",
       "      <td>5</td>\n",
       "      <td>12</td>\n",
       "      <td>39</td>\n",
       "      <td>19</td>\n",
       "      <td>16</td>\n",
       "      <td>28</td>\n",
       "      <td>6</td>\n",
       "      <td>...</td>\n",
       "      <td>-0.007152</td>\n",
       "      <td>0.032584</td>\n",
       "      <td>0.121726</td>\n",
       "      <td>0.045089</td>\n",
       "      <td>0.154464</td>\n",
       "      <td>0.106817</td>\n",
       "      <td>0.065336</td>\n",
       "      <td>0.234708</td>\n",
       "      <td>1</td>\n",
       "      <td>1</td>\n",
       "    </tr>\n",
       "    <tr>\n",
       "      <th>4</th>\n",
       "      <td>M09PXs7arQ5E</td>\n",
       "      <td>0.00</td>\n",
       "      <td>14</td>\n",
       "      <td>5</td>\n",
       "      <td>15</td>\n",
       "      <td>40</td>\n",
       "      <td>20</td>\n",
       "      <td>24</td>\n",
       "      <td>28</td>\n",
       "      <td>1</td>\n",
       "      <td>...</td>\n",
       "      <td>-0.010196</td>\n",
       "      <td>0.035638</td>\n",
       "      <td>0.074978</td>\n",
       "      <td>0.030579</td>\n",
       "      <td>0.025640</td>\n",
       "      <td>0.118199</td>\n",
       "      <td>0.112522</td>\n",
       "      <td>0.143666</td>\n",
       "      <td>1</td>\n",
       "      <td>1</td>\n",
       "    </tr>\n",
       "  </tbody>\n",
       "</table>\n",
       "<p>5 rows × 19930 columns</p>\n",
       "</div>"
      ],
      "text/plain": [
       "  participant_id  EHQ_EHQ_Total  ColorVision_CV_Score  APQ_P_APQ_P_CP  \\\n",
       "0   UmrK0vMLopoR          40.00                    13               3   \n",
       "1   CPaeQkhcjg7d         -94.47                    14               3   \n",
       "2   Nb4EetVPm3gs         -46.67                    14               4   \n",
       "3   p4vPhVu91o4b         -26.68                    10               5   \n",
       "4   M09PXs7arQ5E           0.00                    14               5   \n",
       "\n",
       "   APQ_P_APQ_P_ID  APQ_P_APQ_P_INV  APQ_P_APQ_P_OPD  APQ_P_APQ_P_PM  \\\n",
       "0              10               47               13              11   \n",
       "1              13               34               18              23   \n",
       "2              10               35               16              10   \n",
       "3              12               39               19              16   \n",
       "4              15               40               20              24   \n",
       "\n",
       "   APQ_P_APQ_P_PP  SDQ_SDQ_Conduct_Problems  ...  195throw_198thcolumn  \\\n",
       "0              28                         0  ...             -0.058396   \n",
       "1              30                         0  ...             -0.025624   \n",
       "2              29                         1  ...              0.010771   \n",
       "3              28                         6  ...             -0.007152   \n",
       "4              28                         1  ...             -0.010196   \n",
       "\n",
       "   195throw_199thcolumn  196throw_197thcolumn  196throw_198thcolumn  \\\n",
       "0             -0.041544              0.142806             -0.006377   \n",
       "1             -0.031863              0.162011              0.067439   \n",
       "2             -0.044341              0.128386              0.047282   \n",
       "3              0.032584              0.121726              0.045089   \n",
       "4              0.035638              0.074978              0.030579   \n",
       "\n",
       "   196throw_199thcolumn  197throw_198thcolumn  197throw_199thcolumn  \\\n",
       "0              0.108005              0.148327              0.093230   \n",
       "1              0.017155              0.088893              0.064094   \n",
       "2              0.087678              0.146221             -0.009425   \n",
       "3              0.154464              0.106817              0.065336   \n",
       "4              0.025640              0.118199              0.112522   \n",
       "\n",
       "   198throw_199thcolumn  ADHD_Outcome  Sex_F  \n",
       "0             -0.004984             1      1  \n",
       "1              0.194381             1      0  \n",
       "2              0.035150             1      0  \n",
       "3              0.234708             1      1  \n",
       "4              0.143666             1      1  \n",
       "\n",
       "[5 rows x 19930 columns]"
      ]
     },
     "execution_count": 1,
     "metadata": {},
     "output_type": "execute_result"
    }
   ],
   "source": [
    "import numpy as np\n",
    "import pandas as pd\n",
    "\n",
    "\n",
    "def get_feats(mode='TRAIN'):\n",
    "    \"\"\"\n",
    "    Load data for the specified mode (TRAIN or TEST).\n",
    "    \"\"\"\n",
    "    # Load quantitative metadata\n",
    "    feats = pd.read_excel(f\"../../kaggle/input/widsdatathon2025/{mode}/{mode}_QUANTITATIVE_METADATA.xlsx\")\n",
    "    \n",
    "    # Load categorical metadata\n",
    "    if mode == 'TRAIN':\n",
    "        cate = pd.read_excel(f\"../../kaggle/input/widsdatathon2025/{mode}/{mode}_CATEGORICAL_METADATA.xlsx\")\n",
    "    else:\n",
    "        cate = pd.read_excel(f\"../../kaggle/input/widsdatathon2025/{mode}/{mode}_CATEGORICAL.xlsx\")\n",
    "    \n",
    "    # Merge quantitative and categorical data\n",
    "    feats = pd.merge(feats, cate, on='participant_id', how='left')\n",
    "    \n",
    "    # Load functional connectome matrices\n",
    "    func = pd.read_csv(f\"../../kaggle/input/widsdatathon2025/{mode}/{mode}_FUNCTIONAL_CONNECTOME_MATRICES.csv\")\n",
    "    feats = pd.merge(feats, func, on='participant_id', how='left')\n",
    "    \n",
    "    # Load training solutions (only for TRAIN mode)\n",
    "    if mode == 'TRAIN':\n",
    "        solution = pd.read_excel(\"../../kaggle/input/widsdatathon2025/TRAIN/TRAINING_SOLUTIONS.xlsx\")\n",
    "        feats = pd.merge(feats, solution, on='participant_id', how='left')\n",
    "    \n",
    "    return feats\n",
    "\n",
    "# Load training and test data\n",
    "print(\"Loading data...\")\n",
    "train = get_feats(mode='TRAIN')\n",
    "test = get_feats(mode='TEST')\n",
    "\n",
    "# Display the first few rows of the training data\n",
    "train.head()"
   ]
  },
  {
   "cell_type": "markdown",
   "id": "0eb1388e",
   "metadata": {
    "papermill": {
     "duration": 0.002593,
     "end_time": "2025-01-24T17:43:23.457208",
     "exception": false,
     "start_time": "2025-01-24T17:43:23.454615",
     "status": "completed"
    },
    "tags": []
   },
   "source": [
    "---\n",
    "\n",
    "## 3. Data Preprocessing <a name=\"data-preprocessing\"></a>\n",
    "\n",
    "We preprocess the data by:\n",
    "1. Handling missing values\n",
    "2. Encoding categorical features\n",
    "3. Scaling numerical features"
   ]
  },
  {
   "cell_type": "code",
   "execution_count": 2,
   "id": "5242bba3",
   "metadata": {
    "execution": {
     "iopub.execute_input": "2025-01-24T17:43:23.463258Z",
     "iopub.status.busy": "2025-01-24T17:43:23.462975Z",
     "iopub.status.idle": "2025-01-24T17:43:28.861639Z",
     "shell.execute_reply": "2025-01-24T17:43:28.860890Z"
    },
    "papermill": {
     "duration": 5.403518,
     "end_time": "2025-01-24T17:43:28.863196",
     "exception": false,
     "start_time": "2025-01-24T17:43:23.459678",
     "status": "completed"
    },
    "tags": []
   },
   "outputs": [
    {
     "name": "stdout",
     "output_type": "stream",
     "text": [
      "Preprocessing data...\n"
     ]
    }
   ],
   "source": [
    "from sklearn.preprocessing import OneHotEncoder, StandardScaler\n",
    "from sklearn.impute import SimpleImputer\n",
    "from sklearn.compose import ColumnTransformer\n",
    "from sklearn.pipeline import Pipeline\n",
    "\n",
    "# Separate features and target variables\n",
    "X      = train.drop(['participant_id', 'ADHD_Outcome', 'Sex_F'], axis=1, errors='ignore')\n",
    "y_adhd = train['ADHD_Outcome']\n",
    "y_sex  = train['Sex_F']\n",
    "\n",
    "# Identify categorical and numerical features\n",
    "categorical_features = X.select_dtypes(include=['object']).columns.tolist()\n",
    "numerical_features = X.select_dtypes(exclude=['object']).columns.tolist()\n",
    "\n",
    "# Create preprocessing pipelines\n",
    "numeric_transformer = Pipeline(steps=[\n",
    "    ('imputer', SimpleImputer(strategy='median')),\n",
    "    ('scaler', StandardScaler())\n",
    "])\n",
    "\n",
    "categorical_transformer = Pipeline(steps=[\n",
    "    ('imputer', SimpleImputer(strategy='most_frequent')),\n",
    "    ('onehot', OneHotEncoder(handle_unknown='ignore'))\n",
    "])\n",
    "\n",
    "preprocessor = ColumnTransformer(\n",
    "    transformers=[\n",
    "        ('num', numeric_transformer, numerical_features),\n",
    "        ('cat', categorical_transformer, categorical_features)\n",
    "    ]\n",
    ")\n",
    "\n",
    "# Apply preprocessing to training data\n",
    "print(\"Preprocessing data...\")\n",
    "X_preprocessed = preprocessor.fit_transform(X)"
   ]
  },
  {
   "cell_type": "markdown",
   "id": "f2fc9ccb",
   "metadata": {
    "papermill": {
     "duration": 0.002834,
     "end_time": "2025-01-24T17:43:28.869614",
     "exception": false,
     "start_time": "2025-01-24T17:43:28.866780",
     "status": "completed"
    },
    "tags": []
   },
   "source": [
    "---\n",
    "\n",
    "## 4. Model Training <a name=\"model-training\"></a>\n",
    "\n",
    "We use LightGBM, a gradient boosting framework, to train separate models for ADHD and sex prediction."
   ]
  },
  {
   "cell_type": "code",
   "execution_count": 3,
   "id": "a7bc164f",
   "metadata": {
    "execution": {
     "iopub.execute_input": "2025-01-24T17:43:28.876283Z",
     "iopub.status.busy": "2025-01-24T17:43:28.875868Z",
     "iopub.status.idle": "2025-01-24T17:51:15.717648Z",
     "shell.execute_reply": "2025-01-24T17:51:15.716691Z"
    },
    "papermill": {
     "duration": 466.849101,
     "end_time": "2025-01-24T17:51:15.721591",
     "exception": false,
     "start_time": "2025-01-24T17:43:28.872490",
     "status": "completed"
    },
    "tags": []
   },
   "outputs": [],
   "source": [
    "import lightgbm as lgb\n",
    "from sklearn.model_selection import train_test_split\n",
    "from sklearn.utils import class_weight\n",
    "\n",
    "# Split data into training and validation sets\n",
    "\n",
    "# Assign the split data to variables for better readability\n",
    "(\n",
    "    X_train, \n",
    "    X_val, \n",
    "    y_train_adhd, \n",
    "    y_val_adhd, \n",
    "    y_train_sex, \n",
    "    y_val_sex\n",
    ") = train_test_split(\n",
    "    X_preprocessed, \n",
    "    y_adhd, \n",
    "    y_sex, \n",
    "    test_size=0.2, \n",
    "    random_state=42, \n",
    "    stratify=y_adhd\n",
    ")\n",
    "\n",
    "# Calculate class weights for ADHD and sex\n",
    "adhd_weights = class_weight.compute_class_weight('balanced', classes=np.unique(y_adhd), y=y_adhd)\n",
    "sex_weights = class_weight.compute_class_weight('balanced', classes=np.unique(y_sex), y=y_sex)\n"
   ]
  },
  {
   "cell_type": "code",
   "execution_count": 4,
   "id": "de53a8da",
   "metadata": {},
   "outputs": [
    {
     "name": "stdout",
     "output_type": "stream",
     "text": [
      "Loading ADHD model from file...\n",
      "Loading Sex model from file...\n"
     ]
    }
   ],
   "source": [
    "import os\n",
    "import joblib\n",
    "import lightgbm as lgb\n",
    "from sklearn.model_selection import train_test_split\n",
    "\n",
    "# File paths for the saved models\n",
    "adhd_model_path = 'adhd_model.pkl'\n",
    "sex_model_path = 'sex_model.pkl'\n",
    "\n",
    "# Check if the ADHD model file exists\n",
    "if os.path.exists(adhd_model_path):\n",
    "    print(\"Loading ADHD model from file...\")\n",
    "    adhd_model = joblib.load(adhd_model_path)\n",
    "else:\n",
    "    # Define ADHD model\n",
    "    adhd_model = lgb.LGBMClassifier(\n",
    "        objective='binary',\n",
    "        num_leaves=63,\n",
    "        learning_rate=0.01,\n",
    "        n_estimators=1000,\n",
    "        scale_pos_weight=adhd_weights[1] / adhd_weights[0],\n",
    "        early_stopping_rounds=50,\n",
    "        verbose=-1\n",
    "    )\n",
    "    # Train ADHD model\n",
    "    print(\"Training ADHD model...\")\n",
    "    adhd_model.fit(X_train, y_train_adhd, eval_set=[(X_val, y_val_adhd)])\n",
    "    # Save ADHD model\n",
    "    joblib.dump(adhd_model, adhd_model_path)\n",
    "\n",
    "# Check if the Sex model file exists\n",
    "if os.path.exists(sex_model_path):\n",
    "    print(\"Loading Sex model from file...\")\n",
    "    sex_model = joblib.load(sex_model_path)\n",
    "else:\n",
    "    # Define Sex model\n",
    "    sex_model = lgb.LGBMClassifier(\n",
    "        objective='binary',\n",
    "        num_leaves=127,\n",
    "        learning_rate=0.005,\n",
    "        n_estimators=1000,\n",
    "        scale_pos_weight=sex_weights[1] / sex_weights[0],\n",
    "        early_stopping_rounds=50,\n",
    "        verbose=-1\n",
    "    )\n",
    "    # Train Sex model\n",
    "    print(\"Training Sex model...\")\n",
    "    sex_model.fit(X_train, y_train_sex, eval_set=[(X_val, y_val_sex)])\n",
    "    # Save Sex model\n",
    "    joblib.dump(sex_model, sex_model_path)"
   ]
  },
  {
   "cell_type": "markdown",
   "id": "86ece075",
   "metadata": {
    "papermill": {
     "duration": 0.002617,
     "end_time": "2025-01-24T17:51:15.727151",
     "exception": false,
     "start_time": "2025-01-24T17:51:15.724534",
     "status": "completed"
    },
    "tags": []
   },
   "source": [
    "---\n",
    "\n",
    "## 5. Model Evaluation <a name=\"model-evaluation\"></a>\n",
    "\n",
    "We evaluate the models using the F1 score, which is the competition's evaluation metric."
   ]
  },
  {
   "cell_type": "code",
   "execution_count": 5,
   "id": "473e56fe",
   "metadata": {
    "execution": {
     "iopub.execute_input": "2025-01-24T17:51:15.733928Z",
     "iopub.status.busy": "2025-01-24T17:51:15.733319Z",
     "iopub.status.idle": "2025-01-24T17:51:15.773796Z",
     "shell.execute_reply": "2025-01-24T17:51:15.772903Z"
    },
    "papermill": {
     "duration": 0.045199,
     "end_time": "2025-01-24T17:51:15.775125",
     "exception": false,
     "start_time": "2025-01-24T17:51:15.729926",
     "status": "completed"
    },
    "tags": []
   },
   "outputs": [
    {
     "name": "stderr",
     "output_type": "stream",
     "text": [
      "c:\\Users\\alan.mcdonagh\\anaconda3\\envs\\milliman_dublin_v005\\lib\\site-packages\\sklearn\\utils\\deprecation.py:151: FutureWarning: 'force_all_finite' was renamed to 'ensure_all_finite' in 1.6 and will be removed in 1.8.\n",
      "  warnings.warn(\n"
     ]
    },
    {
     "name": "stdout",
     "output_type": "stream",
     "text": [
      "ADHD F1 Score: 0.8490\n",
      "Sex F1 Score: 0.0000\n",
      "Combined F1 Score: 0.4245\n"
     ]
    },
    {
     "name": "stderr",
     "output_type": "stream",
     "text": [
      "c:\\Users\\alan.mcdonagh\\anaconda3\\envs\\milliman_dublin_v005\\lib\\site-packages\\sklearn\\utils\\deprecation.py:151: FutureWarning: 'force_all_finite' was renamed to 'ensure_all_finite' in 1.6 and will be removed in 1.8.\n",
      "  warnings.warn(\n"
     ]
    }
   ],
   "source": [
    "from sklearn.metrics import f1_score\n",
    "\n",
    "# Make predictions on the validation set\n",
    "adhd_pred = adhd_model.predict(X_val)\n",
    "sex_pred = sex_model.predict(X_val)\n",
    "\n",
    "# Calculate F1 scores\n",
    "adhd_f1 = f1_score(y_val_adhd, adhd_pred)\n",
    "sex_f1 = f1_score(y_val_sex, sex_pred)\n",
    "combined_f1 = (adhd_f1 + sex_f1) / 2\n",
    "\n",
    "print(f\"ADHD F1 Score: {adhd_f1:.4f}\")\n",
    "print(f\"Sex F1 Score: {sex_f1:.4f}\")\n",
    "print(f\"Combined F1 Score: {combined_f1:.4f}\")"
   ]
  },
  {
   "cell_type": "markdown",
   "id": "1fbb8813",
   "metadata": {
    "papermill": {
     "duration": 0.002743,
     "end_time": "2025-01-24T17:51:15.781124",
     "exception": false,
     "start_time": "2025-01-24T17:51:15.778381",
     "status": "completed"
    },
    "tags": []
   },
   "source": [
    "---\n",
    "\n",
    "## 6. Submission Generation <a name=\"submission-generation\"></a>\n",
    "\n",
    "We generate predictions for the test set and create a submission file."
   ]
  },
  {
   "cell_type": "code",
   "execution_count": 7,
   "id": "709ec76b",
   "metadata": {
    "execution": {
     "iopub.execute_input": "2025-01-24T17:51:15.787927Z",
     "iopub.status.busy": "2025-01-24T17:51:15.787672Z",
     "iopub.status.idle": "2025-01-24T17:51:16.261365Z",
     "shell.execute_reply": "2025-01-24T17:51:16.260517Z"
    },
    "papermill": {
     "duration": 0.478629,
     "end_time": "2025-01-24T17:51:16.262695",
     "exception": false,
     "start_time": "2025-01-24T17:51:15.784066",
     "status": "completed"
    },
    "tags": []
   },
   "outputs": [
    {
     "name": "stdout",
     "output_type": "stream",
     "text": [
      "Submission file saved!\n"
     ]
    },
    {
     "name": "stderr",
     "output_type": "stream",
     "text": [
      "c:\\Users\\alan.mcdonagh\\anaconda3\\envs\\milliman_dublin_v005\\lib\\site-packages\\sklearn\\utils\\deprecation.py:151: FutureWarning: 'force_all_finite' was renamed to 'ensure_all_finite' in 1.6 and will be removed in 1.8.\n",
      "  warnings.warn(\n",
      "c:\\Users\\alan.mcdonagh\\anaconda3\\envs\\milliman_dublin_v005\\lib\\site-packages\\sklearn\\utils\\deprecation.py:151: FutureWarning: 'force_all_finite' was renamed to 'ensure_all_finite' in 1.6 and will be removed in 1.8.\n",
      "  warnings.warn(\n"
     ]
    }
   ],
   "source": [
    "# Preprocess test data\n",
    "test_preprocessed = preprocessor.transform(test.drop('participant_id', axis=1, errors='ignore'))\n",
    "\n",
    "# Make predictions\n",
    "test_adhd_pred = adhd_model.predict(test_preprocessed)\n",
    "test_sex_pred = sex_model.predict(test_preprocessed)\n",
    "\n",
    "# Create submission file\n",
    "submission = pd.DataFrame({\n",
    "    'participant_id': test['participant_id'],\n",
    "    'ADHD_Outcome': test_adhd_pred,\n",
    "    'Sex_F': test_sex_pred\n",
    "})\n",
    "\n",
    "# Save submission file\n",
    "submission.to_csv('submission.csv', index=False)\n",
    "print(\"Submission file saved!\")"
   ]
  },
  {
   "cell_type": "markdown",
   "id": "1cbcca79",
   "metadata": {
    "papermill": {
     "duration": 0.002892,
     "end_time": "2025-01-24T17:51:16.269646",
     "exception": false,
     "start_time": "2025-01-24T17:51:16.266754",
     "status": "completed"
    },
    "tags": []
   },
   "source": [
    "---\n",
    "\n",
    "## 7. Conclusion <a name=\"conclusion\"></a>\n",
    "\n",
    "In this notebook, we:\n",
    "1. Loaded and preprocessed the WiDS Datathon 2025 dataset.\n",
    "2. Trained LightGBM models for ADHD and sex prediction.\n",
    "3. Evaluated the models using the F1 score.\n",
    "4. Generated a submission file for the competition.\n",
    "\n",
    "Further improvements could include:\n",
    "- Hyperparameter tuning\n",
    "- Feature engineering\n",
    "- Ensemble methods\n",
    "\n",
    "Good luck with the competition!"
   ]
  }
 ],
 "metadata": {
  "kaggle": {
   "accelerator": "nvidiaTeslaT4",
   "dataSources": [
    {
     "databundleVersionId": 10712530,
     "sourceId": 90566,
     "sourceType": "competition"
    }
   ],
   "dockerImageVersionId": 30840,
   "isGpuEnabled": true,
   "isInternetEnabled": true,
   "language": "python",
   "sourceType": "notebook"
  },
  "kernelspec": {
   "display_name": "milliman_dublin_v005",
   "language": "python",
   "name": "python3"
  },
  "language_info": {
   "codemirror_mode": {
    "name": "ipython",
    "version": 3
   },
   "file_extension": ".py",
   "mimetype": "text/x-python",
   "name": "python",
   "nbconvert_exporter": "python",
   "pygments_lexer": "ipython3",
   "version": "3.10.16"
  },
  "papermill": {
   "default_parameters": {},
   "duration": 497.545439,
   "end_time": "2025-01-24T17:51:17.393502",
   "environment_variables": {},
   "exception": null,
   "input_path": "__notebook__.ipynb",
   "output_path": "__notebook__.ipynb",
   "parameters": {},
   "start_time": "2025-01-24T17:42:59.848063",
   "version": "2.6.0"
  }
 },
 "nbformat": 4,
 "nbformat_minor": 5
}
