{
 "cells": [
  {
   "cell_type": "markdown",
   "metadata": {},
   "source": [
    "```powershell\n",
    "conda install conda-forge::kaggle\n",
    "conda install certifi\n",
    "```"
   ]
  },
  {
   "cell_type": "markdown",
   "metadata": {},
   "source": [
    "```powershell\n",
    "# Update Conda\n",
    "conda update conda\n",
    "\n",
    "# Install Certifi\n",
    "conda install certifi\n",
    "\n",
    "# Update all packages including certificates\n",
    "conda update --all\n",
    "\n",
    "# (Not Recommended) Set SSL verification to false\n",
    "conda config --set ssl_verify false\n",
    "\n",
    "# Manually install CA certificates\n",
    "conda install -c anaconda ca-certificates\n",
    "\n",
    "# Install Kaggle package from conda-forge\n",
    "conda install -c conda-forge kaggle\n",
    "\n",
    "```"
   ]
  },
  {
   "cell_type": "code",
   "execution_count": 2,
   "metadata": {},
   "outputs": [
    {
     "name": "stderr",
     "output_type": "stream",
     "text": [
      "UsageError: Cell magic `%%powershell` not found.\n"
     ]
    }
   ],
   "source": [
    "%%powershell \n",
    "conda update conda"
   ]
  },
  {
   "cell_type": "code",
   "execution_count": null,
   "metadata": {},
   "outputs": [],
   "source": [
    "! kaggle competitions download -c widsdatathon2025"
   ]
  },
  {
   "cell_type": "markdown",
   "metadata": {},
   "source": [
    "\n",
    "[tutorial](https://powershellisfun.com/2022/08/04/jupyter-notebooks-in-vscode-with-powershell-support/)\n",
    "\n",
    "\n",
    "```bash\n",
    "pip install powershell_kernel\n",
    "python\n",
    "```\n",
    "\n",
    "```python\n",
    ">>> import powershell_kernel as ps\n",
    ">>> print(ps.__file__)\n",
    "C:\\Users\\alan.mcdonagh\\anaconda3\\envs\\milliman_dublin_v005\\lib\\site-packages\\powershell_kernel\\__init__.py\n",
    "```\n",
    "\n",
    "```bash\n",
    "cd \"C:\\Users\\alan.mcdonagh\\anaconda3\\envs\\milliman_dublin_v005\\lib\\site-packages\\powershell_kernel\\__init__.py\"\n",
    "python -m powershell_kernel.install --powershell-command pwsh\n",
    "```"
   ]
  },
  {
   "cell_type": "code",
   "execution_count": null,
   "metadata": {},
   "outputs": [],
   "source": []
  }
 ],
 "metadata": {
  "kernelspec": {
   "display_name": "Python 3",
   "language": "python",
   "name": "python3"
  },
  "language_info": {
   "codemirror_mode": {
    "name": "ipython",
    "version": 3
   },
   "file_extension": ".py",
   "mimetype": "text/x-python",
   "name": "python",
   "nbconvert_exporter": "python",
   "pygments_lexer": "ipython3",
   "version": "3.12.2"
  }
 },
 "nbformat": 4,
 "nbformat_minor": 2
}
